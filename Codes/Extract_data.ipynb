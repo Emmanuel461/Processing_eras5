{
 "cells": [
  {
   "cell_type": "code",
   "execution_count": 8,
   "metadata": {},
   "outputs": [],
   "source": [
    "import os\n",
    "import re\n",
    "import rasterio\n",
    "import xarray as xr\n",
    "import geopandas as gpd\n",
    "import pandas as pd\n",
    "from rasterio.mask import mask\n",
    "from rasterio.warp import calculate_default_transform, reproject, Resampling\n",
    "from rasterio.transform import from_bounds\n",
    "from affine import Affine"
   ]
  },
  {
   "cell_type": "code",
   "execution_count": 17,
   "metadata": {},
   "outputs": [],
   "source": [
    "# Ruta de la carpeta que contiene los archivos NetCDF\n",
    "nc_folder = '../DataIntermediate/2m_temperature'\n",
    "# Ruta de la carpeta para guardar los archivos TIF convertidos\n",
    "tif_folder = '../DataIntermediate/2m_temperature_tif'\n",
    "# Archivo shapefile de los centroides\n",
    "centroid_shapefile = '../DataIn/Centroides.shp'\n",
    "# Archivo Excel de salida\n",
    "output_excel = '../Results/temperaturas_centroides.xlsx'\n",
    "\n"
   ]
  },
  {
   "cell_type": "code",
   "execution_count": null,
   "metadata": {},
   "outputs": [],
   "source": [
    "# Leer el shapefile de los centroides\n",
    "centroids = gpd.read_file(centroid_shapefile)\n",
    "\n",
    "# Lista para almacenar los resultados\n",
    "results = []"
   ]
  },
  {
   "cell_type": "code",
   "execution_count": 20,
   "metadata": {},
   "outputs": [],
   "source": [
    "# Función para extraer la fecha del nombre del archivo usando regex\n",
    "def extract_date_from_filename(filename):\n",
    "    match = re.search(r'(\\d{8})', filename)\n",
    "    if match:\n",
    "        return match.group(1)\n",
    "    return None\n",
    "\n",
    "# Extraer valores de temperatura en los centroides directamente de los archivos .nc\n",
    "for nc_file in os.listdir(nc_folder):\n",
    "    if nc_file.endswith('.nc'):\n",
    "        nc_path = os.path.join(nc_folder, nc_file)\n",
    "        date = extract_date_from_filename(nc_file)\n",
    "        \n",
    "        # Abrir el archivo NetCDF\n",
    "        ds = xr.open_dataset(nc_path)\n",
    "        var_name = 'Temperature_Air_2m_Mean_Day_Time'  # Nombre de la variable en el archivo NetCDF (ajusta según corresponda)\n",
    "        data = ds[var_name]\n",
    "\n",
    "        # Iterar sobre los centroides\n",
    "        for index, row in centroids.iterrows():\n",
    "            centroid_geom = row['geometry']\n",
    "            centroid_x = centroid_geom.x\n",
    "            centroid_y = centroid_geom.y\n",
    "\n",
    "            # Extraer el valor de temperatura en el centroide\n",
    "            temp_value = data.sel(lon=centroid_x, lat=centroid_y, method='nearest').values.item()\n",
    "            \n",
    "            # Añadir el resultado a la lista\n",
    "            results.append({\n",
    "                'Date': date,\n",
    "                'Centroid_X': centroid_x,\n",
    "                'Centroid_Y': centroid_y,\n",
    "                'Temperature': temp_value\n",
    "            })\n",
    "\n",
    "# Crear un DataFrame de pandas con los resultados\n",
    "df = pd.DataFrame(results)\n",
    "\n",
    "# Guardar el DataFrame en un archivo Excel\n",
    "df.to_excel(output_excel, index=False)"
   ]
  }
 ],
 "metadata": {
  "kernelspec": {
   "display_name": "base",
   "language": "python",
   "name": "python3"
  },
  "language_info": {
   "codemirror_mode": {
    "name": "ipython",
    "version": 3
   },
   "file_extension": ".py",
   "mimetype": "text/x-python",
   "name": "python",
   "nbconvert_exporter": "python",
   "pygments_lexer": "ipython3",
   "version": "3.11.7"
  }
 },
 "nbformat": 4,
 "nbformat_minor": 2
}
