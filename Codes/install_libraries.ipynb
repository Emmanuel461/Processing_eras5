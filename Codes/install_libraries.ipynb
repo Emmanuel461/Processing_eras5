{
 "cells": [
  {
   "cell_type": "code",
   "execution_count": 2,
   "metadata": {},
   "outputs": [
    {
     "name": "stdout",
     "output_type": "stream",
     "text": [
      "Requirement already satisfied: cdsapi in c:\\users\\jesus\\anaconda3\\lib\\site-packages (from -r requirements.txt (line 1)) (0.7.0)\n",
      "Requirement already satisfied: rasterio in c:\\users\\jesus\\anaconda3\\lib\\site-packages (from -r requirements.txt (line 2)) (1.3.10)\n",
      "Requirement already satisfied: geopandas in c:\\users\\jesus\\anaconda3\\lib\\site-packages (from -r requirements.txt (line 3)) (0.14.4)\n",
      "Requirement already satisfied: pandas in c:\\users\\jesus\\anaconda3\\lib\\site-packages (from -r requirements.txt (line 4)) (2.1.4)\n",
      "Collecting netCDF4 (from -r requirements.txt (line 5))\n",
      "  Downloading netCDF4-1.7.1.post1-cp311-cp311-win_amd64.whl.metadata (1.8 kB)\n",
      "Requirement already satisfied: xarray in c:\\users\\jesus\\anaconda3\\lib\\site-packages (from -r requirements.txt (line 6)) (2023.6.0)\n",
      "Requirement already satisfied: openpyxl in c:\\users\\jesus\\anaconda3\\lib\\site-packages (from -r requirements.txt (line 7)) (3.0.10)\n",
      "Requirement already satisfied: cads-api-client>=0.9.2 in c:\\users\\jesus\\anaconda3\\lib\\site-packages (from cdsapi->-r requirements.txt (line 1)) (1.1.0)\n",
      "Requirement already satisfied: requests>=2.5.0 in c:\\users\\jesus\\anaconda3\\lib\\site-packages (from cdsapi->-r requirements.txt (line 1)) (2.31.0)\n",
      "Requirement already satisfied: tqdm in c:\\users\\jesus\\anaconda3\\lib\\site-packages (from cdsapi->-r requirements.txt (line 1)) (4.65.0)\n",
      "Requirement already satisfied: affine in c:\\users\\jesus\\anaconda3\\lib\\site-packages (from rasterio->-r requirements.txt (line 2)) (2.4.0)\n",
      "Requirement already satisfied: attrs in c:\\users\\jesus\\anaconda3\\lib\\site-packages (from rasterio->-r requirements.txt (line 2)) (23.1.0)\n",
      "Requirement already satisfied: certifi in c:\\users\\jesus\\anaconda3\\lib\\site-packages (from rasterio->-r requirements.txt (line 2)) (2024.2.2)\n",
      "Requirement already satisfied: click>=4.0 in c:\\users\\jesus\\anaconda3\\lib\\site-packages (from rasterio->-r requirements.txt (line 2)) (8.1.7)\n",
      "Requirement already satisfied: cligj>=0.5 in c:\\users\\jesus\\anaconda3\\lib\\site-packages (from rasterio->-r requirements.txt (line 2)) (0.7.2)\n",
      "Requirement already satisfied: numpy in c:\\users\\jesus\\anaconda3\\lib\\site-packages (from rasterio->-r requirements.txt (line 2)) (1.26.4)\n",
      "Requirement already satisfied: snuggs>=1.4.1 in c:\\users\\jesus\\anaconda3\\lib\\site-packages (from rasterio->-r requirements.txt (line 2)) (1.4.7)\n",
      "Requirement already satisfied: click-plugins in c:\\users\\jesus\\anaconda3\\lib\\site-packages (from rasterio->-r requirements.txt (line 2)) (1.1.1)\n",
      "Requirement already satisfied: setuptools in c:\\users\\jesus\\anaconda3\\lib\\site-packages (from rasterio->-r requirements.txt (line 2)) (68.2.2)\n",
      "Requirement already satisfied: fiona>=1.8.21 in c:\\users\\jesus\\anaconda3\\lib\\site-packages (from geopandas->-r requirements.txt (line 3)) (1.9.6)\n",
      "Requirement already satisfied: packaging in c:\\users\\jesus\\anaconda3\\lib\\site-packages (from geopandas->-r requirements.txt (line 3)) (23.1)\n",
      "Requirement already satisfied: pyproj>=3.3.0 in c:\\users\\jesus\\anaconda3\\lib\\site-packages (from geopandas->-r requirements.txt (line 3)) (3.6.1)\n",
      "Requirement already satisfied: shapely>=1.8.0 in c:\\users\\jesus\\anaconda3\\lib\\site-packages (from geopandas->-r requirements.txt (line 3)) (2.0.4)\n",
      "Requirement already satisfied: python-dateutil>=2.8.2 in c:\\users\\jesus\\anaconda3\\lib\\site-packages (from pandas->-r requirements.txt (line 4)) (2.8.2)\n",
      "Requirement already satisfied: pytz>=2020.1 in c:\\users\\jesus\\anaconda3\\lib\\site-packages (from pandas->-r requirements.txt (line 4)) (2023.3.post1)\n",
      "Requirement already satisfied: tzdata>=2022.1 in c:\\users\\jesus\\anaconda3\\lib\\site-packages (from pandas->-r requirements.txt (line 4)) (2023.3)\n",
      "Collecting cftime (from netCDF4->-r requirements.txt (line 5))\n",
      "  Downloading cftime-1.6.4-cp311-cp311-win_amd64.whl.metadata (8.9 kB)\n",
      "Requirement already satisfied: et_xmlfile in c:\\users\\jesus\\anaconda3\\lib\\site-packages (from openpyxl->-r requirements.txt (line 7)) (1.1.0)\n",
      "Requirement already satisfied: multiurl in c:\\users\\jesus\\anaconda3\\lib\\site-packages (from cads-api-client>=0.9.2->cdsapi->-r requirements.txt (line 1)) (0.3.1)\n",
      "Requirement already satisfied: typing-extensions in c:\\users\\jesus\\anaconda3\\lib\\site-packages (from cads-api-client>=0.9.2->cdsapi->-r requirements.txt (line 1)) (4.9.0)\n",
      "Requirement already satisfied: colorama in c:\\users\\jesus\\anaconda3\\lib\\site-packages (from click>=4.0->rasterio->-r requirements.txt (line 2)) (0.4.6)\n",
      "Requirement already satisfied: six in c:\\users\\jesus\\anaconda3\\lib\\site-packages (from fiona>=1.8.21->geopandas->-r requirements.txt (line 3)) (1.16.0)\n",
      "Requirement already satisfied: charset-normalizer<4,>=2 in c:\\users\\jesus\\anaconda3\\lib\\site-packages (from requests>=2.5.0->cdsapi->-r requirements.txt (line 1)) (2.0.4)\n",
      "Requirement already satisfied: idna<4,>=2.5 in c:\\users\\jesus\\anaconda3\\lib\\site-packages (from requests>=2.5.0->cdsapi->-r requirements.txt (line 1)) (3.4)\n",
      "Requirement already satisfied: urllib3<3,>=1.21.1 in c:\\users\\jesus\\anaconda3\\lib\\site-packages (from requests>=2.5.0->cdsapi->-r requirements.txt (line 1)) (2.0.7)\n",
      "Requirement already satisfied: pyparsing>=2.1.6 in c:\\users\\jesus\\anaconda3\\lib\\site-packages (from snuggs>=1.4.1->rasterio->-r requirements.txt (line 2)) (3.0.9)\n",
      "Downloading netCDF4-1.7.1.post1-cp311-cp311-win_amd64.whl (7.1 MB)\n",
      "   ---------------------------------------- 0.0/7.1 MB ? eta -:--:--\n",
      "   ---------------------------------------- 0.0/7.1 MB 1.3 MB/s eta 0:00:06\n",
      "    --------------------------------------- 0.1/7.1 MB 1.1 MB/s eta 0:00:07\n",
      "   - -------------------------------------- 0.3/7.1 MB 2.7 MB/s eta 0:00:03\n",
      "   ------ --------------------------------- 1.2/7.1 MB 7.0 MB/s eta 0:00:01\n",
      "   ----------------- ---------------------- 3.1/7.1 MB 14.2 MB/s eta 0:00:01\n",
      "   ---------------------------- ----------- 5.1/7.1 MB 19.1 MB/s eta 0:00:01\n",
      "   ------------------------------------- -- 6.6/7.1 MB 22.1 MB/s eta 0:00:01\n",
      "   ---------------------------------------- 7.1/7.1 MB 21.5 MB/s eta 0:00:00\n",
      "Downloading cftime-1.6.4-cp311-cp311-win_amd64.whl (190 kB)\n",
      "   ---------------------------------------- 0.0/190.4 kB ? eta -:--:--\n",
      "   ---------------------------------------- 190.4/190.4 kB ? eta 0:00:00\n",
      "Installing collected packages: cftime, netCDF4\n",
      "Successfully installed cftime-1.6.4 netCDF4-1.7.1.post1\n",
      "Note: you may need to restart the kernel to use updated packages.\n"
     ]
    }
   ],
   "source": [
    "%pip install -r requirements.txt"
   ]
  }
 ],
 "metadata": {
  "kernelspec": {
   "display_name": "gpu",
   "language": "python",
   "name": "python3"
  },
  "language_info": {
   "codemirror_mode": {
    "name": "ipython",
    "version": 3
   },
   "file_extension": ".py",
   "mimetype": "text/x-python",
   "name": "python",
   "nbconvert_exporter": "python",
   "pygments_lexer": "ipython3",
   "version": "3.11.7"
  }
 },
 "nbformat": 4,
 "nbformat_minor": 2
}
