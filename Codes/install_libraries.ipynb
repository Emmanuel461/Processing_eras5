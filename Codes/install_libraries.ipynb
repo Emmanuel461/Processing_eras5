{
 "cells": [
  {
   "cell_type": "code",
   "execution_count": 1,
   "metadata": {},
   "outputs": [
    {
     "name": "stdout",
     "output_type": "stream",
     "text": [
      "Collecting cdsapi (from -r requirements.txt (line 1))Note: you may need to restart the kernel to use updated packages.\n",
      "\n",
      "  Using cached cdsapi-0.7.0-py2.py3-none-any.whl.metadata (2.7 kB)\n",
      "Collecting cads-api-client>=0.9.2 (from cdsapi->-r requirements.txt (line 1))\n",
      "  Using cached cads_api_client-1.1.0-py3-none-any.whl.metadata (16 kB)\n",
      "Requirement already satisfied: requests>=2.5.0 in c:\\users\\jesus\\anaconda3\\lib\\site-packages (from cdsapi->-r requirements.txt (line 1)) (2.31.0)\n",
      "Requirement already satisfied: tqdm in c:\\users\\jesus\\anaconda3\\lib\\site-packages (from cdsapi->-r requirements.txt (line 1)) (4.65.0)\n",
      "Requirement already satisfied: attrs in c:\\users\\jesus\\anaconda3\\lib\\site-packages (from cads-api-client>=0.9.2->cdsapi->-r requirements.txt (line 1)) (23.1.0)\n",
      "Collecting multiurl (from cads-api-client>=0.9.2->cdsapi->-r requirements.txt (line 1))\n",
      "  Using cached multiurl-0.3.1.tar.gz (18 kB)\n",
      "  Preparing metadata (setup.py): started\n",
      "  Preparing metadata (setup.py): finished with status 'done'\n",
      "Requirement already satisfied: typing-extensions in c:\\users\\jesus\\anaconda3\\lib\\site-packages (from cads-api-client>=0.9.2->cdsapi->-r requirements.txt (line 1)) (4.9.0)\n",
      "Requirement already satisfied: charset-normalizer<4,>=2 in c:\\users\\jesus\\anaconda3\\lib\\site-packages (from requests>=2.5.0->cdsapi->-r requirements.txt (line 1)) (2.0.4)\n",
      "Requirement already satisfied: idna<4,>=2.5 in c:\\users\\jesus\\anaconda3\\lib\\site-packages (from requests>=2.5.0->cdsapi->-r requirements.txt (line 1)) (3.4)\n",
      "Requirement already satisfied: urllib3<3,>=1.21.1 in c:\\users\\jesus\\anaconda3\\lib\\site-packages (from requests>=2.5.0->cdsapi->-r requirements.txt (line 1)) (2.0.7)\n",
      "Requirement already satisfied: certifi>=2017.4.17 in c:\\users\\jesus\\anaconda3\\lib\\site-packages (from requests>=2.5.0->cdsapi->-r requirements.txt (line 1)) (2024.2.2)\n",
      "Requirement already satisfied: colorama in c:\\users\\jesus\\anaconda3\\lib\\site-packages (from tqdm->cdsapi->-r requirements.txt (line 1)) (0.4.6)\n",
      "Requirement already satisfied: pytz in c:\\users\\jesus\\anaconda3\\lib\\site-packages (from multiurl->cads-api-client>=0.9.2->cdsapi->-r requirements.txt (line 1)) (2023.3.post1)\n",
      "Requirement already satisfied: python-dateutil in c:\\users\\jesus\\anaconda3\\lib\\site-packages (from multiurl->cads-api-client>=0.9.2->cdsapi->-r requirements.txt (line 1)) (2.8.2)\n",
      "Requirement already satisfied: six>=1.5 in c:\\users\\jesus\\anaconda3\\lib\\site-packages (from python-dateutil->multiurl->cads-api-client>=0.9.2->cdsapi->-r requirements.txt (line 1)) (1.16.0)\n",
      "Downloading cdsapi-0.7.0-py2.py3-none-any.whl (12 kB)\n",
      "Downloading cads_api_client-1.1.0-py3-none-any.whl (20 kB)\n",
      "Building wheels for collected packages: multiurl\n",
      "  Building wheel for multiurl (setup.py): started\n",
      "  Building wheel for multiurl (setup.py): finished with status 'done'\n",
      "  Created wheel for multiurl: filename=multiurl-0.3.1-py3-none-any.whl size=21146 sha256=352d2d666971ac0ee0baadf4c3b78d94ae144312675586296ab4c35952f60dad\n",
      "  Stored in directory: c:\\users\\jesus\\appdata\\local\\pip\\cache\\wheels\\88\\54\\66\\4e1d7b60e01b6f962672d16bc2227061edd0af136327d6f9e4\n",
      "Successfully built multiurl\n",
      "Installing collected packages: multiurl, cads-api-client, cdsapi\n",
      "Successfully installed cads-api-client-1.1.0 cdsapi-0.7.0 multiurl-0.3.1\n"
     ]
    }
   ],
   "source": [
    "%pip install -r requirements.txt"
   ]
  }
 ],
 "metadata": {
  "kernelspec": {
   "display_name": "gpu",
   "language": "python",
   "name": "python3"
  },
  "language_info": {
   "codemirror_mode": {
    "name": "ipython",
    "version": 3
   },
   "file_extension": ".py",
   "mimetype": "text/x-python",
   "name": "python",
   "nbconvert_exporter": "python",
   "pygments_lexer": "ipython3",
   "version": "3.11.7"
  }
 },
 "nbformat": 4,
 "nbformat_minor": 2
}
